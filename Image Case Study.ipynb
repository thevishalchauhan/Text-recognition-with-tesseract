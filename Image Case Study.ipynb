{
 "cells": [
  {
   "cell_type": "code",
   "execution_count": 32,
   "metadata": {},
   "outputs": [],
   "source": [
    "from imutils.object_detection import non_max_suppression\n",
    "import numpy as np\n",
    "import pytesseract\n",
    "import argparse\n",
    "import cv2\n",
    "from matplotlib.pyplot import imshow\n",
    "from glob2 import glob\n",
    "import time\n",
    "\n",
    "%matplotlib inline"
   ]
  },
  {
   "cell_type": "code",
   "execution_count": 2,
   "metadata": {},
   "outputs": [],
   "source": [
    "pytesseract.pytesseract.tesseract_cmd = r'C:\\Users\\vischauh\\AppData\\Local\\Tesseract-OCR\\tesseract.exe'"
   ]
  },
  {
   "cell_type": "code",
   "execution_count": 35,
   "metadata": {},
   "outputs": [],
   "source": [
    "def decode_predictions(scores, geometry):\n",
    "\t# grab the number of rows and columns from the scores volume, then\n",
    "\t# initialize our set of bounding box rectangles and corresponding\n",
    "\t# confidence scores\n",
    "\t(numRows, numCols) = scores.shape[2:4]\n",
    "\trects = []\n",
    "\tconfidences = []\n",
    "\n",
    "\t# loop over the number of rows\n",
    "\tfor y in range(0, numRows):\n",
    "\t\t# extract the scores (probabilities), followed by the\n",
    "\t\t# geometrical data used to derive potential bounding box\n",
    "\t\t# coordinates that surround text\n",
    "\t\tscoresData = scores[0, 0, y]\n",
    "\t\txData0 = geometry[0, 0, y]\n",
    "\t\txData1 = geometry[0, 1, y]\n",
    "\t\txData2 = geometry[0, 2, y]\n",
    "\t\txData3 = geometry[0, 3, y]\n",
    "\t\tanglesData = geometry[0, 4, y]\n",
    "\n",
    "\t\t# loop over the number of columns\n",
    "\t\tfor x in range(0, numCols):\n",
    "\t\t\t# if our score does not have sufficient probability,\n",
    "\t\t\t# ignore it\n",
    "\t\t\tif scoresData[x] < min_confidence:\n",
    "\t\t\t\tcontinue\n",
    "\n",
    "\t\t\t# compute the offset factor as our resulting feature\n",
    "\t\t\t# maps will be 4x smaller than the input image\n",
    "\t\t\t(offsetX, offsetY) = (x * 4.0, y * 4.0)\n",
    "\n",
    "\t\t\t# extract the rotation angle for the prediction and\n",
    "\t\t\t# then compute the sin and cosine\n",
    "\t\t\tangle = anglesData[x]\n",
    "\t\t\tcos = np.cos(angle)\n",
    "\t\t\tsin = np.sin(angle)\n",
    "\n",
    "\t\t\t# use the geometry volume to derive the width and height\n",
    "\t\t\t# of the bounding box\n",
    "\t\t\th = xData0[x] + xData2[x]\n",
    "\t\t\tw = xData1[x] + xData3[x]\n",
    "\n",
    "\t\t\t# compute both the starting and ending (x, y)-coordinates\n",
    "\t\t\t# for the text prediction bounding box\n",
    "\t\t\tendX = int(offsetX + (cos * xData1[x]) + (sin * xData2[x]))\n",
    "\t\t\tendY = int(offsetY - (sin * xData1[x]) + (cos * xData2[x]))\n",
    "\t\t\tstartX = int(endX - w)\n",
    "\t\t\tstartY = int(endY - h)\n",
    "\n",
    "\t\t\t# add the bounding box coordinates and probability score\n",
    "\t\t\t# to our respective lists\n",
    "\t\t\trects.append((startX, startY, endX, endY))\n",
    "\t\t\tconfidences.append(scoresData[x])\n",
    "\n",
    "\t# return a tuple of the bounding boxes and associated confidences\n",
    "\treturn (rects, confidences)"
   ]
  },
  {
   "cell_type": "markdown",
   "metadata": {},
   "source": [
    "# Loading all images"
   ]
  },
  {
   "cell_type": "code",
   "execution_count": 39,
   "metadata": {},
   "outputs": [
    {
     "name": "stdout",
     "output_type": "stream",
     "text": [
      "Total Images: 155\n"
     ]
    }
   ],
   "source": [
    "images = glob(r\"Image Data for task\\*[.png,.jpeg]\")\n",
    "print(\"Total Images: {}\".format(len(images)))"
   ]
  },
  {
   "cell_type": "markdown",
   "metadata": {},
   "source": [
    "# [1]. Text Detection using EAST"
   ]
  },
  {
   "cell_type": "markdown",
   "metadata": {},
   "source": [
    "### Parameters to be modified"
   ]
  },
  {
   "cell_type": "code",
   "execution_count": 63,
   "metadata": {},
   "outputs": [
    {
     "data": {
      "image/png": "[encoded data removed]",
      "text/plain": [
       "<Figure size 432x288 with 1 Axes>"
      ]
     },
     "metadata": {
      "needs_background": "light"
     },
     "output_type": "display_data"
    }
   ],
   "source": [
    "image = cv2.imread(images[15])\n",
    "imshow(image)\n",
    "\n",
    "height = 320\n",
    "width = 320\n",
    "min_confidence = 0.5\n",
    "east = \"frozen_east_text_detection.pb\"\n",
    "padding = 0.0"
   ]
  },
  {
   "cell_type": "code",
   "execution_count": 64,
   "metadata": {},
   "outputs": [
    {
     "name": "stdout",
     "output_type": "stream",
     "text": [
      "[INFO] loading EAST text detector...\n",
      "[INFO] text detection took 0.572429 seconds\n"
     ]
    }
   ],
   "source": [
    "#grab the image dimensions\n",
    "orig = image.copy()\n",
    "(H, W) = image.shape[:2]\n",
    "\n",
    "# set the new width and height and then determine the ratio in change\n",
    "# for both the width and height\n",
    "(newW, newH) = (width, height)\n",
    "rW = W / float(newW)\n",
    "rH = H / float(newH)\n",
    "\n",
    "# resize the image and grab the new image dimensions\n",
    "image = cv2.resize(image, (newW, newH))\n",
    "(H, W) = image.shape[:2]\n",
    "\n",
    "# define the two output layer names for the EAST detector model that\n",
    "# we are interested -- the first is the output probabilities and the\n",
    "# second can be used to derive the bounding box coordinates of text\n",
    "layerNames = [\n",
    "\t\"feature_fusion/Conv_7/Sigmoid\",\n",
    "\t\"feature_fusion/concat_3\"]\n",
    "\n",
    "# load the pre-trained EAST text detector\n",
    "print(\"[INFO] loading EAST text detector...\")\n",
    "net = cv2.dnn.readNet(east)\n",
    "\n",
    "# construct a blob from the image and then perform a forward pass of\n",
    "# the model to obtain the two output layer sets\n",
    "blob = cv2.dnn.blobFromImage(image, 1.0, (W, H),\n",
    "\t(123.68, 116.78, 103.94), swapRB=True, crop=False)\n",
    "start = time.time()\n",
    "net.setInput(blob)\n",
    "(scores, geometry) = net.forward(layerNames)\n",
    "end = time.time()\n",
    "\n",
    "# show timing information on text prediction\n",
    "print(\"[INFO] text detection took {:.6f} seconds\".format(end - start))\n",
    "\n",
    "# decode the predictions, then  apply non-maxima suppression to\n",
    "# suppress weak, overlapping bounding boxes\n",
    "(rects, confidences) = decode_predictions(scores, geometry)\n",
    "boxes = non_max_suppression(np.array(rects), probs=confidences)"
   ]
  },
  {
   "cell_type": "code",
   "execution_count": 65,
   "metadata": {},
   "outputs": [],
   "source": [
    "# loop over the bounding boxes\n",
    "for (startX, startY, endX, endY) in boxes:\n",
    "\t# scale the bounding box coordinates based on the respective\n",
    "\t# ratios\n",
    "\tstartX = int(startX * rW)\n",
    "\tstartY = int(startY * rH)\n",
    "\tendX = int(endX * rW)\n",
    "\tendY = int(endY * rH)\n",
    "\n",
    "\t# draw the bounding box on the image\n",
    "\tcv2.rectangle(orig, (startX, startY), (endX, endY), (0, 255, 0), 2)\n",
    "\n",
    "# show the output image\n",
    "cv2.imshow(\"Text Detection\", orig)\n",
    "cv2.waitKey(0)\n",
    "cv2.destroyAllWindows()"
   ]
  },
  {
   "cell_type": "markdown",
   "metadata": {},
   "source": [
    "# [2] Text Extraction using Tesseract"
   ]
  },
  {
   "cell_type": "code",
   "execution_count": 66,
   "metadata": {},
   "outputs": [
    {
     "name": "stdout",
     "output_type": "stream",
     "text": [
      "OCR TEXT\n",
      "========\n",
      "OTC\n",
      "\n"
     ]
    }
   ],
   "source": [
    "# initialize the list of results\n",
    "results = []\n",
    "\n",
    "# loop over the bounding boxes\n",
    "for (startX, startY, endX, endY) in boxes:\n",
    "\t# scale the bounding box coordinates based on the respective\n",
    "\t# ratios\n",
    "\tstartX = int(startX * rW)\n",
    "\tstartY = int(startY * rH)\n",
    "\tendX = int(endX * rW)\n",
    "\tendY = int(endY * rH)\n",
    "\n",
    "\t# in order to obtain a better OCR of the text we can potentially\n",
    "\t# apply a bit of padding surrounding the bounding box -- here we\n",
    "\t# are computing the deltas in both the x and y directions\n",
    "\tdX = int((endX - startX) * padding)\n",
    "\tdY = int((endY - startY) * padding)\n",
    "\n",
    "\t# apply padding to each side of the bounding box, respectively\n",
    "\tstartX = max(0, startX - dX)\n",
    "\tstartY = max(0, startY - dY)\n",
    "\tendX = min(W, endX + (dX * 2))\n",
    "\tendY = min(H, endY + (dY * 2))\n",
    "\n",
    "\t# extract the actual padded ROI\n",
    "\troi = orig[startY:endY, startX:endX]\n",
    "\n",
    "\t# in order to apply Tesseract v4 to OCR text we must supply\n",
    "\t# (1) a language, (2) an OEM flag of 4, indicating that the we\n",
    "\t# wish to use the LSTM neural net model for OCR, and finally\n",
    "\t# (3) an OEM value, in this case, 7 which implies that we are\n",
    "\t# treating the ROI as a single line of text\n",
    "\tconfig = (\"-l eng --oem 1 --psm 7\")\n",
    "\ttext = pytesseract.image_to_string(roi, config=config)\n",
    "\n",
    "\t# add the bounding box coordinates and OCR'd text to the list\n",
    "\t# of results\n",
    "\tresults.append(((startX, startY, endX, endY), text))\n",
    "\n",
    "# sort the results bounding box coordinates from top to bottom\n",
    "results = sorted(results, key=lambda r:r[0][1])\n",
    "\n",
    "# loop over the results\n",
    "for ((startX, startY, endX, endY), text) in results:\n",
    "\t# display the text OCR'd by Tesseract\n",
    "\tprint(\"OCR TEXT\")\n",
    "\tprint(\"========\")\n",
    "\tprint(\"{}\\n\".format(text))\n",
    "\n",
    "\t# strip out non-ASCII text so we can draw the text on the image\n",
    "\t# using OpenCV, then draw the text and a bounding box surrounding\n",
    "\t# the text region of the input image\n",
    "\ttext = \"\".join([c if ord(c) < 128 else \"\" for c in text]).strip()\n",
    "\toutput = orig.copy()\n",
    "\tcv2.rectangle(output, (startX, startY), (endX, endY),\n",
    "\t\t(0, 0, 255), 2)\n",
    "\tcv2.putText(output, text, (startX, startY - 20),\n",
    "\t\tcv2.FONT_HERSHEY_SIMPLEX, 1.2, (0, 0, 255), 3)\n",
    "\n",
    "\t# show the output image\n",
    "\tcv2.imshow(\"Text Detection\", output)\n",
    "\tcv2.waitKey(0)\n",
    "\tcv2.destroyAllWindows()"
   ]
  },
  {
   "cell_type": "markdown",
   "metadata": {},
   "source": [
    "__THIS CODE IS WORKING WITH SOME EXTENT NEED TO WORK FOR MORE ACCURATE RESULTS__"
   ]
  }
 ],
 "metadata": {
  "kernelspec": {
   "display_name": "Python 3",
   "language": "python",
   "name": "python3"
  },
  "language_info": {
   "codemirror_mode": {
    "name": "ipython",
    "version": 3
   },
   "file_extension": ".py",
   "mimetype": "text/x-python",
   "name": "python",
   "nbconvert_exporter": "python",
   "pygments_lexer": "ipython3",
   "version": "3.6.10"
  }
 },
 "nbformat": 4,
 "nbformat_minor": 4
}
